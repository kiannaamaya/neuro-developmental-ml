{
 "cells": [
  {
   "cell_type": "code",
   "execution_count": 3,
   "id": "c7b24033",
   "metadata": {
    "scrolled": true
   },
   "outputs": [],
   "source": [
    "import os\n",
    "import re\n",
    "import pandas as pd\n",
    "import numpy as np\n",
    "from sklearn.model_selection import train_test_split\n",
    "from sklearn.metrics import accuracy_score, classification_report\n",
    "from sklearn.preprocessing import StandardScaler, MultiLabelBinarizer\n",
    "from sklearn.multiclass import OneVsRestClassifier\n",
    "from sklearn.svm import SVC\n",
    "from sklearn.neural_network import MLPClassifier\n",
    "from xgboost import XGBClassifier\n",
    "from sklearn.metrics import roc_curve, auc, roc_auc_score\n",
    "import matplotlib.pyplot as plt"
   ]
  },
  {
   "cell_type": "markdown",
   "id": "64e9d3ed",
   "metadata": {},
   "source": [
    "## Defining Functions"
   ]
  },
  {
   "cell_type": "code",
   "execution_count": 5,
   "id": "694869cc",
   "metadata": {},
   "outputs": [],
   "source": [
    "def process_rnaseq_data(rnaseq_df, meta_df, output_folder=\"data/rnaseq\"):\n",
    "    \"\"\"\n",
    "    Process RNA-Seq data and save the result as a CSV.\n",
    "    \n",
    "    Args:\n",
    "    - rnaseq_df (pd.DataFrame): The original RNA-Seq dataset.\n",
    "    - meta_df (pd.DataFrame): The metadata for the RNA-Seq dataset.\n",
    "    - output_folder (str): Folder to save the resulting CSV.\n",
    "    \n",
    "    Returns:\n",
    "    - pd.DataFrame: Processed RNA-Seq dataframe.\n",
    "    \"\"\"\n",
    "    \n",
    "    # Ensure output folder exists\n",
    "    if not os.path.exists(output_folder):\n",
    "        os.makedirs(output_folder)\n",
    "    \n",
    "    # Rename columns based on the meta-data\n",
    "    column_to_donor = dict(zip(meta_df.index, meta_df['donor_name']))\n",
    "    rnaseq_df.columns = [column_to_donor[col] for col in rnaseq_df.columns]\n",
    "    \n",
    "    # Transpose\n",
    "    transposed_df = rnaseq_df.transpose()\n",
    "    \n",
    "    # Map age using the donor name as the index\n",
    "    donor_to_age = dict(zip(meta_df['donor_name'], meta_df['age']))\n",
    "    transposed_df['Age'] = transposed_df.index.map(donor_to_age)\n",
    "    \n",
    "    # Save to CSV\n",
    "    existing_files = [f for f in os.listdir(output_folder) if f.startswith(\"rnaseq_\") and f.endswith(\".csv\")]\n",
    "    existing_indices = [int(f.split(\"_\")[1].split(\".\")[0]) for f in existing_files]\n",
    "    next_index = max(existing_indices, default=0) + 1\n",
    "    data_file = os.path.join(output_folder, f\"rnaseq_{next_index}.csv\")\n",
    "    transposed_df.to_csv(data_file)\n",
    "    \n",
    "    print(f\"Saved RNA-Seq data to {data_file}\")\n",
    "    return transposed_df"
   ]
  },
  {
   "cell_type": "code",
   "execution_count": 6,
   "id": "90d26e31",
   "metadata": {},
   "outputs": [],
   "source": [
    "def process_methylation_data(methylation_df, specimen_df, output_folder=\"data/methylation\"):\n",
    "    \"\"\"\n",
    "    Process Methylation data and save the result as a CSV.\n",
    "    \n",
    "    Args:\n",
    "    - methylation_df (pd.DataFrame): The original Methylation dataset.\n",
    "    - specimen_df (pd.DataFrame): The specimen metadata for the Methylation dataset.\n",
    "    - output_folder (str): Folder to save the resulting CSV.\n",
    "    \n",
    "    Returns:\n",
    "    - pd.DataFrame: Processed Methylation dataframe.\n",
    "    \"\"\"\n",
    "    \n",
    "    # Ensure output folder exists\n",
    "    if not os.path.exists(output_folder):\n",
    "        os.makedirs(output_folder)\n",
    "    \n",
    "    # Transpose the DataFrame\n",
    "    transposed_df = methylation_df.transpose()\n",
    "    header = transposed_df.iloc[0]\n",
    "    transposed_df = transposed_df[1:]\n",
    "    transposed_df.columns = header\n",
    "    \n",
    "    # Extract specimen code\n",
    "    transposed_df['Extracted Specimen Code'] = transposed_df['Sample ID'].str.extract('(\\d+)').astype(int)\n",
    "    \n",
    "    # Mapping\n",
    "    specimen_code_to_specimen_id = dict(zip(specimen_df['Specimen Code'], specimen_df['Specimen ID']))\n",
    "    specimen_code_to_age = dict(zip(specimen_df['Specimen Code'], specimen_df['Age']))\n",
    "    transposed_df['Specimen ID'] = transposed_df['Extracted Specimen Code'].map(specimen_code_to_specimen_id)\n",
    "    transposed_df['Age'] = transposed_df['Extracted Specimen Code'].map(specimen_code_to_age)\n",
    "    \n",
    "    # Drop unnecessary column\n",
    "    transposed_df.drop('Extracted Specimen Code', axis=1, inplace=True)\n",
    "    \n",
    "    # Save to CSV\n",
    "    existing_files = [f for f in os.listdir(output_folder) if f.startswith(\"methylation_\") and f.endswith(\".csv\")]\n",
    "    existing_indices = [int(f.split(\"_\")[1].split(\".\")[0]) for f in existing_files]\n",
    "    next_index = max(existing_indices, default=0) + 1\n",
    "    data_file = os.path.join(output_folder, f\"methylation_{next_index}.csv\")\n",
    "    transposed_df.to_csv(data_file)\n",
    "    \n",
    "    print(f\"Saved Methylation data to {data_file}\")\n",
    "    return transposed_df"
   ]
  },
  {
   "cell_type": "code",
   "execution_count": 7,
   "id": "57a5c89f",
   "metadata": {},
   "outputs": [],
   "source": [
    "def process_microRNA_data(microRNA_df, meta_df, output_folder=\"data/microRNA\"):\n",
    "    \"\"\"\n",
    "    Process MicroRNA data and save the result as a CSV.\n",
    "    \n",
    "    Args:\n",
    "    - microRNA_df (pd.DataFrame): The MicroRNA data to be processed.\n",
    "    - meta_df (pd.DataFrame): The metadata DataFrame containing the 'donor_name' and 'age'.\n",
    "    - output_folder (str): Folder to save the resulting CSV.\n",
    "    \n",
    "    Returns:\n",
    "    - pd.DataFrame: Processed MicroRNA dataframe.\n",
    "    \"\"\"\n",
    "    \n",
    "    # Ensure output folder exists\n",
    "    if not os.path.exists(output_folder):\n",
    "        os.makedirs(output_folder)\n",
    "\n",
    "    # Transpose the DataFrame\n",
    "    transposed_df = microRNA_df.transpose()\n",
    "\n",
    "    # Transform the string\n",
    "    def transform_string(s):\n",
    "        match = re.search(r'H376_(IX|X|VI|VII|VIII|XI)_(\\d{2})', s)\n",
    "        if match:\n",
    "            return \"H376.\" + match.group(1) + \".\" + match.group(2)\n",
    "        else:\n",
    "            return s\n",
    "\n",
    "    transposed_df['donor_name'] = transposed_df.index.to_series().apply(transform_string)\n",
    "    \n",
    "    # Mapping\n",
    "    donor_name_to_age = meta_df.set_index('donor_name')['Age'].to_dict()\n",
    "    transposed_df['Age'] = transposed_df['donor_name'].map(donor_name_to_age)\n",
    "    \n",
    "    # Save to CSV\n",
    "    existing_files = [f for f in os.listdir(output_folder) if f.startswith(\"microRNA_\") and f.endswith(\".csv\")]\n",
    "    existing_indices = [int(f.split(\"_\")[1].split(\".\")[0]) for f in existing_files]\n",
    "    next_index = max(existing_indices, default=0) + 1\n",
    "    data_file = os.path.join(output_folder, f\"microRNA_{next_index}.csv\")\n",
    "    transposed_df.to_csv(data_file)\n",
    "    \n",
    "    print(f\"Saved MicroRNA data to {data_file}\")\n",
    "    return transposed_df"
   ]
  },
  {
   "cell_type": "markdown",
   "id": "21c65056",
   "metadata": {},
   "source": [
    "## Reading in Data Files"
   ]
  },
  {
   "cell_type": "code",
   "execution_count": 8,
   "id": "a31d4641",
   "metadata": {},
   "outputs": [
    {
     "name": "stdout",
     "output_type": "stream",
     "text": [
      "Saved RNA-Seq data to data/rnaseq/rnaseq_1.csv\n"
     ]
    }
   ],
   "source": [
    "develop_transcriptome_rnaseq = pd.read_csv(\"24Developmental Transcriptome/superseded_genes_matrix_csv/expression_matrix.csv\", header=None, index_col=0)\n",
    "develop_transcriptome_rnaseq_meta_columns = pd.read_csv(\"24Developmental Transcriptome/superseded_genes_matrix_csv/columns_metadata.csv\", index_col=0)\n",
    "output_rnaseq = process_rnaseq_data(develop_transcriptome_rnaseq, develop_transcriptome_rnaseq_meta_columns)"
   ]
  },
  {
   "cell_type": "code",
   "execution_count": 10,
   "id": "9a1321cc",
   "metadata": {},
   "outputs": [],
   "source": [
    "data = {\n",
    "    'Specimen Code': [132, 139, 131, 171, 122, 124, 119, 105, 127, 143, 172, 173, 123, 118, 141, 174],\n",
    "    'Specimen ID': ['H376.VI.50', 'H376.VI.52', 'H376.VII.50', 'H376.VII.51', 'H376.VIII.51', 'H376.X.51', 'H376.X.50', 'H376.X.53', 'H376.X.52', 'H376.VIII.53', 'H376.VIII.54', 'H376.VIII.52', 'H376.XI.54', 'H376.VIII.50', 'H376.IX.51', 'H376.IX.52'],\n",
    "    'Age': ['4 M', '4 M', '6 M', '10 M', '1 Y', '13 Y', '15 Y', '18 Y', '19 Y', '2 Y', '3 Y', '3 Y', '37 Y', '4 Y', '8 Y', '8 Y']\n",
    "}\n",
    "\n",
    "specimen_df = pd.DataFrame(data)"
   ]
  },
  {
   "cell_type": "code",
   "execution_count": 11,
   "id": "3fd45a5f",
   "metadata": {},
   "outputs": [
    {
     "name": "stderr",
     "output_type": "stream",
     "text": [
      "/var/folders/c1/_3m7mbjn7pzcqcl5463xw4mr0000gn/T/ipykernel_69605/3722847242.py:1: DtypeWarning: Columns (1,2,3,4,5,6,7,8,9,10,11,12,13,14,15,16,17,18,19,20,21,22,23,24,25,26,27,28,29,30,31,32,33,34,35,36,37,38,39,40,41,42,43,44,45,46,47,48,49,50,51,52,53,54,55,56,57,58,59,60,61,62,63,64,65,66,67,68,69,70,71,72,73,74,75,76,77,78,79,80,81,82,83,84,85,86) have mixed types. Specify dtype option on import or set low_memory=False.\n",
      "  methylation_1 = pd.read_csv(\"Methylation/1109_methylation_beta_values.txt\", sep='\\t')\n",
      "/var/folders/c1/_3m7mbjn7pzcqcl5463xw4mr0000gn/T/ipykernel_69605/3722847242.py:2: DtypeWarning: Columns (1,2,3,4,5,6,7,8,9,10,11,12,13,14,15,16,17,18,19,20,21,22,23,24,25,26,27,28,29,30,31,32,33,34,35,36,37,38,39,40,41,42,43,44,45,46,47,48,49,50,51,52,53,54,55,56,57,58,59,60,61,62,63,64,65,66,67,68,69,70,71,72,73,74,75,76,77,78,79,80,81,82,83,84,85,86,87,88,89,90,91) have mixed types. Specify dtype option on import or set low_memory=False.\n",
      "  methylation_2 = pd.read_csv(\"Methylation/1110_methylation_beta_values.txt\", sep='\\t')\n"
     ]
    },
    {
     "name": "stdout",
     "output_type": "stream",
     "text": [
      "Saved Methylation data to data/methylation/methylation_1.csv\n",
      "Saved Methylation data to data/methylation/methylation_2.csv\n"
     ]
    }
   ],
   "source": [
    "methylation_1 = pd.read_csv(\"Methylation/1109_methylation_beta_values.txt\", sep='\\t')\n",
    "methylation_2 = pd.read_csv(\"Methylation/1110_methylation_beta_values.txt\", sep='\\t')\n",
    "output_methylation_1 = process_methylation_data(methylation_1, specimen_df)\n",
    "output_methylation_2 = process_methylation_data(methylation_2, specimen_df)"
   ]
  },
  {
   "cell_type": "code",
   "execution_count": 12,
   "id": "81f222cf",
   "metadata": {},
   "outputs": [
    {
     "name": "stdout",
     "output_type": "stream",
     "text": [
      "Saved MicroRNA data to data/microRNA/microRNA_1.csv\n"
     ]
    }
   ],
   "source": [
    "microrna = pd.read_excel(\"microRNA/MicroRNA.xls\", index_col=0)\n",
    "output_microRNA = process_microRNA_data(microrna, develop_transcriptome_rnaseq_meta_columns)"
   ]
  }
 ],
 "metadata": {
  "kernelspec": {
   "display_name": "Python [conda env:develop_transcriptome]",
   "language": "python",
   "name": "conda-env-develop_transcriptome-py"
  },
  "language_info": {
   "codemirror_mode": {
    "name": "ipython",
    "version": 3
   },
   "file_extension": ".py",
   "mimetype": "text/x-python",
   "name": "python",
   "nbconvert_exporter": "python",
   "pygments_lexer": "ipython3",
   "version": "3.11.4"
  }
 },
 "nbformat": 4,
 "nbformat_minor": 5
}
